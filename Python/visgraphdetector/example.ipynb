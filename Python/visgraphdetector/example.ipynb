{
 "cells": [
  {
   "cell_type": "code",
   "execution_count": 3,
   "metadata": {},
   "outputs": [
    {
     "ename": "ImportError",
     "evalue": "cannot import name 'NaturalVisibilityGraph' from 'ts2vg' (c:\\Users\\flori\\AppData\\Local\\Programs\\Python\\Python310\\lib\\site-packages\\ts2vg\\__init__.py)",
     "output_type": "error",
     "traceback": [
      "\u001b[1;31m---------------------------------------------------------------------------\u001b[0m",
      "\u001b[1;31mImportError\u001b[0m                               Traceback (most recent call last)",
      "\u001b[1;32mc:\\Users\\flori\\OneDrive\\Dokumente\\TU\\Bachelor Thesis\\Code\\Python\\visgraphdetector\\example.ipynb Zelle 1\u001b[0m in \u001b[0;36m<cell line: 7>\u001b[1;34m()\u001b[0m\n\u001b[0;32m      <a href='vscode-notebook-cell:/c%3A/Users/flori/OneDrive/Dokumente/TU/Bachelor%20Thesis/Code/Python/visgraphdetector/example.ipynb#ch0000000?line=3'>4</a>\u001b[0m \u001b[39mimport\u001b[39;00m \u001b[39mnumpy\u001b[39;00m \u001b[39mas\u001b[39;00m \u001b[39mnp\u001b[39;00m\n\u001b[0;32m      <a href='vscode-notebook-cell:/c%3A/Users/flori/OneDrive/Dokumente/TU/Bachelor%20Thesis/Code/Python/visgraphdetector/example.ipynb#ch0000000?line=4'>5</a>\u001b[0m \u001b[39mfrom\u001b[39;00m \u001b[39mscipy\u001b[39;00m\u001b[39m.\u001b[39;00m\u001b[39mmisc\u001b[39;00m \u001b[39mimport\u001b[39;00m electrocardiogram\n\u001b[1;32m----> <a href='vscode-notebook-cell:/c%3A/Users/flori/OneDrive/Dokumente/TU/Bachelor%20Thesis/Code/Python/visgraphdetector/example.ipynb#ch0000000?line=6'>7</a>\u001b[0m \u001b[39mfrom\u001b[39;00m \u001b[39mvisgraphdetector\u001b[39;00m \u001b[39mimport\u001b[39;00m VisGraphDetector\n",
      "File \u001b[1;32mc:\\Users\\flori\\OneDrive\\Dokumente\\TU\\Bachelor Thesis\\Code\\Python\\visgraphdetector\\visgraphdetector.py:3\u001b[0m, in \u001b[0;36m<module>\u001b[1;34m\u001b[0m\n\u001b[0;32m      1\u001b[0m \u001b[39mimport\u001b[39;00m \u001b[39mnumpy\u001b[39;00m \u001b[39mas\u001b[39;00m \u001b[39mnp\u001b[39;00m\n\u001b[0;32m      2\u001b[0m \u001b[39mfrom\u001b[39;00m \u001b[39mscipy\u001b[39;00m \u001b[39mimport\u001b[39;00m signal\n\u001b[1;32m----> 3\u001b[0m \u001b[39mfrom\u001b[39;00m \u001b[39mts2vg\u001b[39;00m \u001b[39mimport\u001b[39;00m NaturalVisibilityGraph\n\u001b[0;32m      5\u001b[0m \u001b[39mclass\u001b[39;00m \u001b[39mVisGraphDetector\u001b[39;00m:\n\u001b[0;32m      6\u001b[0m     \u001b[39m\"\"\"\u001b[39;00m\n\u001b[0;32m      7\u001b[0m \u001b[39m    \"Fast and Sample Accurate R-Peak Detection for Noisy ECG Using\u001b[39;00m\n\u001b[0;32m      8\u001b[0m \u001b[39m    Visibility Graphs\"\u001b[39;00m\n\u001b[0;32m      9\u001b[0m \u001b[39m    License: \u001b[39;00m\n\u001b[0;32m     10\u001b[0m \u001b[39m    Authors: Taulant Koka, Michael Muma\u001b[39;00m\n\u001b[0;32m     11\u001b[0m \u001b[39m    \"\"\"\u001b[39;00m\n",
      "\u001b[1;31mImportError\u001b[0m: cannot import name 'NaturalVisibilityGraph' from 'ts2vg' (c:\\Users\\flori\\AppData\\Local\\Programs\\Python\\Python310\\lib\\site-packages\\ts2vg\\__init__.py)"
     ]
    }
   ],
   "source": [
    "#matplotlib qt5\n",
    "#import packages\n",
    "import matplotlib.pyplot as plt\n",
    "import numpy as np\n",
    "from scipy.misc import electrocardiogram\n",
    "\n",
    "from visgraphdetector import VisGraphDetector"
   ]
  },
  {
   "cell_type": "code",
   "execution_count": null,
   "metadata": {},
   "outputs": [
    {
     "data": {
      "text/plain": [
       "[<matplotlib.lines.Line2D at 0x168f38852e0>]"
      ]
     },
     "execution_count": 4,
     "metadata": {},
     "output_type": "execute_result"
    }
   ],
   "source": [
    "ecg = electrocardiogram()\n",
    "fs = 360\n",
    "beta = 0.55\n",
    "gamma = 0.5\n",
    "lowcut = 4\n",
    "M = 2*fs\n",
    "time = np.arange(0,len(ecg)/360,1/360)\n",
    "\n",
    "vgd = VisGraphDetector(360)\n",
    "R_peaks, weights, weighted_signal = vgd.visgraphdetect(ecg, beta=beta, gamma=gamma, lowcut=lowcut, M = M)\n",
    "\n",
    "plt.plot(time,ecg)\n",
    "plt.plot(time[R_peaks],ecg[R_peaks],'X')\n"
   ]
  },
  {
   "cell_type": "markdown",
   "metadata": {},
   "source": []
  }
 ],
 "metadata": {
  "kernelspec": {
   "display_name": "Python 3.10.0 64-bit",
   "language": "python",
   "name": "python3"
  },
  "language_info": {
   "codemirror_mode": {
    "name": "ipython",
    "version": 3
   },
   "file_extension": ".py",
   "mimetype": "text/x-python",
   "name": "python",
   "nbconvert_exporter": "python",
   "pygments_lexer": "ipython3",
   "version": "3.10.0"
  },
  "orig_nbformat": 4,
  "vscode": {
   "interpreter": {
    "hash": "9e8942728792b4f803710fcef6ec9d08fd61899a3575dab23084978499f50197"
   }
  }
 },
 "nbformat": 4,
 "nbformat_minor": 2
}
